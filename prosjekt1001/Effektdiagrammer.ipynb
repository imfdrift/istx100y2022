{
 "cells": [
  {
   "cell_type": "markdown",
   "id": "ce8cc45c-932d-4332-8ad9-984dfcc7678e",
   "metadata": {},
   "source": [
    "# Paretodiagram og normalplott av effektene"
   ]
  },
  {
   "cell_type": "code",
   "execution_count": null,
   "id": "62430e6a-75b9-4ec0-b5d1-b9cbdad69485",
   "metadata": {},
   "outputs": [],
   "source": [
    "import numpy as np\n",
    "import pandas as pd\n",
    "from scipy import stats \n",
    "import matplotlib.pyplot as plt\n",
    "import seaborn as sns"
   ]
  },
  {
   "cell_type": "code",
   "execution_count": null,
   "id": "93e729a4-58e3-4ce9-ba87-bb1e9354f96d",
   "metadata": {},
   "outputs": [],
   "source": [
    "# Leser inn effekttabell fra fil\n",
    "\n",
    "filnavn = 'Tabell.csv'                 # Skriv inn filnavnet\n",
    "df = pd.read_csv(filnavn,sep = ',')    # Leser inn i dataframe. Separator endres ved behov\n",
    "k = 3                                  # Sett inn antall faktorer\n",
    "df"
   ]
  },
  {
   "cell_type": "markdown",
   "id": "70032b10-48c7-405c-ad30-2acce9149c68",
   "metadata": {
    "tags": []
   },
   "source": [
    "## Normalplott"
   ]
  },
  {
   "cell_type": "code",
   "execution_count": null,
   "id": "92da32e5-14f2-44cd-b9ac-3aa866a414f3",
   "metadata": {},
   "outputs": [],
   "source": [
    "fig, ax = plt.subplots()\n",
    "\n",
    "antall = 2**k - 1                                    # Antall effekter\n",
    "\n",
    "x = np.zeros(antall)                                 # verdier tilsvarende forventet normalfordeling                   \n",
    "for i in range (0,antall):\n",
    "    x[i] = (i+5/8)/(antall + 0.25)\n",
    "z = stats.norm.ppf(x,0,1)                             # Kritiske verdier i standard normalfordeling\n",
    "y = df[\"Standardisert\"]                               # Plottes mot standardiserte effekter\n",
    "\n",
    "plt.title('Normalplott for standardiserte effekter')   \n",
    "\n",
    "plt.plot(y,z,'o')                                     # Plotter effektene\n",
    "\n",
    "ax.text(7.5,2,'A: ',color='')                         # Sett inn navn på faktorer\n",
    "ax.text(7.5,1.6,'B:',color='')                        # og ønsket skriftfarge\n",
    "ax.text(7.5,1.2,'C: ',color='')                       # koordinatene må tilpasses                         \n",
    "\n",
    "ax.text(-4.8,-1.2,'A',color = 'r',fontsize = 'large') # Eksempel på markering av signifikant effekt\n",
    "\n",
    "x1 = [0.01,0.5,0.99]                                  # Koordinater for linje\n",
    "y1 = stats.norm.ppf(x1,0,1)\n",
    "plt.plot(x1,y1,'r-')                                  # Plott av linje\n",
    "plt.grid()\n",
    "\n",
    "plt.ylabel('Kritiske verdier')\n",
    "plt.xlabel('Effekter')\n",
    "\n",
    "plt.savefig('normal.png')                             # Lagrer diagrammet\n",
    "plt.show()"
   ]
  },
  {
   "cell_type": "markdown",
   "id": "22e36740-7e41-4382-a5fe-f6da2debdebb",
   "metadata": {},
   "source": [
    "## Paretodiagram"
   ]
  },
  {
   "cell_type": "code",
   "execution_count": null,
   "id": "7e451b9d-ef88-4ced-ba30-b0f06d0aa4d6",
   "metadata": {},
   "outputs": [],
   "source": [
    "fig, ax = plt.subplots()\n",
    "\n",
    "plt.title('Paretodiagram for standardiserte effekter')   \n",
    "                       \n",
    "   \n",
    "df[\"Standardisert\"] = abs(df[\"Standardisert\"])\n",
    "ax = sns.barplot(x=\"Standardisert\", y=\"Effekt\", data = df, color=\"b\")\n",
    "\n",
    "KritiskVerdi = abs(stats.t.ppf(0.025,2**k))                                           # Beregner kritisk verdi\n",
    "plt.vlines(x = KritiskVerdi, ymin = -0.2, ymax = 6.3,colors='r',linestyles='dashed')  # Linje for kritisk verdi\n",
    "ax.text(1.7, 6.6,s='2.31',color='r')                                                  # Plasserer tall for kritisk verdi\n",
    "                                                                                      # Juster eventuelt verdi og koordinater\n",
    "ax.text(9.7,-0.4,'A:',color='r')                                                       # Sett inn navn på faktorer\n",
    "ax.text(9.7,0.1,'B:',color='r')                                                        # og ønket skriftfarge\n",
    "ax.text(9.7,0.6,'C:',color='r') \n",
    "\n",
    "plt.xlabel('')\n",
    "plt.ylabel(' ')\n",
    "plt.tight_layout\n",
    "\n",
    "plt.savefig('pareto.png')                                                              # Lagrer diagrammet\n",
    "\n",
    "plt.show()"
   ]
  }
 ],
 "metadata": {
  "kernelspec": {
   "display_name": "Python 3 (ipykernel)",
   "language": "python",
   "name": "python3"
  },
  "language_info": {
   "codemirror_mode": {
    "name": "ipython",
    "version": 3
   },
   "file_extension": ".py",
   "mimetype": "text/x-python",
   "name": "python",
   "nbconvert_exporter": "python",
   "pygments_lexer": "ipython3",
   "version": "3.9.12"
  }
 },
 "nbformat": 4,
 "nbformat_minor": 5
}
