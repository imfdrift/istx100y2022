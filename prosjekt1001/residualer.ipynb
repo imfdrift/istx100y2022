{
 "cells": [
  {
   "cell_type": "markdown",
   "id": "85f5c57f-127d-46a0-9e87-3cef1c1b32fe",
   "metadata": {},
   "source": [
    "# Residiualplott"
   ]
  },
  {
   "cell_type": "code",
   "execution_count": 1,
   "id": "a217c9cf-544e-49df-9d6e-aa06af250067",
   "metadata": {},
   "outputs": [],
   "source": [
    "import pandas as pd\n",
    "import numpy as np\n",
    "import seaborn as sns\n",
    "import matplotlib.pyplot as plt\n",
    "import statsmodels.api as sms # regresjonen\n",
    "import statsmodels.formula.api as smf # formel for regresjonen"
   ]
  },
  {
   "cell_type": "markdown",
   "id": "dd04b588-c1b9-4932-b409-f38dae86d464",
   "metadata": {},
   "source": [
    "## Funksjon som returnerer verdier fra regresjonslikningen"
   ]
  },
  {
   "cell_type": "code",
   "execution_count": 2,
   "id": "27e83541-a324-4ca5-a82c-a6ac110d5f7d",
   "metadata": {},
   "outputs": [],
   "source": [
    "def tilpasset_verdi(fA, fC):      # returnerer verdien fra regresjonslikningen, her med A, C og AC som signifikante\n",
    "    return 776.1 - 50.8*fA + 153.1 * fC - 76.8 * fA * fC\n",
    "\n",
    "# Må tilpasses egne verdier. Disse er hentet fra eksempelet i temavideoene"
   ]
  },
  {
   "cell_type": "markdown",
   "id": "1d6abac7-0b8b-4b1a-9410-f65bf8505a49",
   "metadata": {},
   "source": [
    "## Henter inn opprinnelige data og legger til regresjonsverdiene"
   ]
  },
  {
   "cell_type": "code",
   "execution_count": 3,
   "id": "86a15781-bfa8-4790-9a43-a69c7c3adfe4",
   "metadata": {},
   "outputs": [
    {
     "data": {
      "text/html": [
       "<div>\n",
       "<style scoped>\n",
       "    .dataframe tbody tr th:only-of-type {\n",
       "        vertical-align: middle;\n",
       "    }\n",
       "\n",
       "    .dataframe tbody tr th {\n",
       "        vertical-align: top;\n",
       "    }\n",
       "\n",
       "    .dataframe thead th {\n",
       "        text-align: right;\n",
       "    }\n",
       "</style>\n",
       "<table border=\"1\" class=\"dataframe\">\n",
       "  <thead>\n",
       "    <tr style=\"text-align: right;\">\n",
       "      <th></th>\n",
       "      <th>A</th>\n",
       "      <th>B</th>\n",
       "      <th>C</th>\n",
       "      <th>Y1</th>\n",
       "      <th>Y2</th>\n",
       "      <th>modell</th>\n",
       "    </tr>\n",
       "  </thead>\n",
       "  <tbody>\n",
       "    <tr>\n",
       "      <th>0</th>\n",
       "      <td>-1</td>\n",
       "      <td>-1</td>\n",
       "      <td>-1</td>\n",
       "      <td>550</td>\n",
       "      <td>604</td>\n",
       "      <td>597.0</td>\n",
       "    </tr>\n",
       "    <tr>\n",
       "      <th>1</th>\n",
       "      <td>1</td>\n",
       "      <td>-1</td>\n",
       "      <td>-1</td>\n",
       "      <td>669</td>\n",
       "      <td>650</td>\n",
       "      <td>649.0</td>\n",
       "    </tr>\n",
       "    <tr>\n",
       "      <th>2</th>\n",
       "      <td>-1</td>\n",
       "      <td>1</td>\n",
       "      <td>-1</td>\n",
       "      <td>633</td>\n",
       "      <td>601</td>\n",
       "      <td>597.0</td>\n",
       "    </tr>\n",
       "    <tr>\n",
       "      <th>3</th>\n",
       "      <td>1</td>\n",
       "      <td>1</td>\n",
       "      <td>-1</td>\n",
       "      <td>642</td>\n",
       "      <td>635</td>\n",
       "      <td>649.0</td>\n",
       "    </tr>\n",
       "    <tr>\n",
       "      <th>4</th>\n",
       "      <td>-1</td>\n",
       "      <td>-1</td>\n",
       "      <td>1</td>\n",
       "      <td>1037</td>\n",
       "      <td>1052</td>\n",
       "      <td>1056.8</td>\n",
       "    </tr>\n",
       "    <tr>\n",
       "      <th>5</th>\n",
       "      <td>1</td>\n",
       "      <td>-1</td>\n",
       "      <td>1</td>\n",
       "      <td>749</td>\n",
       "      <td>868</td>\n",
       "      <td>801.6</td>\n",
       "    </tr>\n",
       "    <tr>\n",
       "      <th>6</th>\n",
       "      <td>-1</td>\n",
       "      <td>1</td>\n",
       "      <td>1</td>\n",
       "      <td>1075</td>\n",
       "      <td>1063</td>\n",
       "      <td>1056.8</td>\n",
       "    </tr>\n",
       "    <tr>\n",
       "      <th>7</th>\n",
       "      <td>1</td>\n",
       "      <td>1</td>\n",
       "      <td>1</td>\n",
       "      <td>729</td>\n",
       "      <td>860</td>\n",
       "      <td>801.6</td>\n",
       "    </tr>\n",
       "  </tbody>\n",
       "</table>\n",
       "</div>"
      ],
      "text/plain": [
       "   A  B  C    Y1    Y2  modell\n",
       "0 -1 -1 -1   550   604   597.0\n",
       "1  1 -1 -1   669   650   649.0\n",
       "2 -1  1 -1   633   601   597.0\n",
       "3  1  1 -1   642   635   649.0\n",
       "4 -1 -1  1  1037  1052  1056.8\n",
       "5  1 -1  1   749   868   801.6\n",
       "6 -1  1  1  1075  1063  1056.8\n",
       "7  1  1  1   729   860   801.6"
      ]
     },
     "execution_count": 3,
     "metadata": {},
     "output_type": "execute_result"
    }
   ],
   "source": [
    "# Leser inn effekttabell fra fil\n",
    "\n",
    "filnavn = 'dybde.csv'                           # Skriv inn eget filnavn\n",
    "df = pd.read_csv(filnavn,sep = ';')              # Leser inn i dataframe. Separator endres ved behov\n",
    "k = 3                                  # Antall faktorer\n",
    "n = 16                                 # Antall målinger\n",
    "df[\"modell\"] = tilpasset_verdi(df[\"A\"],df[\"C\"])   # modell inneholder estimerte verdier ut fra regresjonslikningen\n",
    "df"
   ]
  },
  {
   "cell_type": "markdown",
   "id": "1fd2575e-9bed-4162-b9e5-2a6a05ed8c87",
   "metadata": {},
   "source": [
    "## Finner residualene"
   ]
  },
  {
   "cell_type": "code",
   "execution_count": 4,
   "id": "cb57de1c-f078-422d-8cbc-c4b633157bbb",
   "metadata": {},
   "outputs": [],
   "source": [
    "residualer = np.zeros(16) \n",
    "\n",
    "res1 = df['Y1'] - df['modell']\n",
    "res2 = df['Y2'] - df['modell']  \n",
    "res = np.append(res1,res2)"
   ]
  },
  {
   "cell_type": "markdown",
   "id": "73a10620-0050-4637-aa37-da55e7fec1f2",
   "metadata": {},
   "source": [
    "## Plotter residualer i målt rekkefølge"
   ]
  },
  {
   "cell_type": "code",
   "execution_count": 5,
   "id": "0f8907c7-a257-4e7e-b436-c70aa4dbd21b",
   "metadata": {},
   "outputs": [
    {
     "data": {
      "image/png": "[encoded data removed]",
      "text/plain": [
       "<Figure size 432x288 with 1 Axes>"
      ]
     },
     "metadata": {
      "needs_background": "light"
     },
     "output_type": "display_data"
    }
   ],
   "source": [
    "orden = [2,4,13,16,7,8,13,15,6,1,3,10,5,11,14,9]    # Angir målt rekkefølge. Sett inn egne verdier\n",
    "\n",
    "df_residualer = pd.DataFrame({'Indeks' : orden, 'residualer' : res})\n",
    "\n",
    "plt.title('Residualer i målt rekkefølge')\n",
    "x = np.linspace(1,n,n)\n",
    "df_ordnet = df_residualer.sort_values(by=['Indeks'])\n",
    "\n",
    "plt.plot(x,df_ordnet['residualer'],'o-')\n",
    "plt.xlabel('Rekkefølge av observasjonene')\n",
    "plt.ylabel('Residualer')\n",
    "plt.savefig('Residualplott-1.png')\n"
   ]
  },
  {
   "cell_type": "markdown",
   "id": "f56bc538-4fba-4e0a-936f-bb62f7f0d98e",
   "metadata": {},
   "source": [
    "## Histogram"
   ]
  },
  {
   "cell_type": "code",
   "execution_count": 6,
   "id": "dc72cb0c-8a62-4d9c-96bb-ffe623f19b03",
   "metadata": {},
   "outputs": [
    {
     "data": {
      "image/png": "[encoded data removed]",
      "text/plain": [
       "<Figure size 432x288 with 1 Axes>"
      ]
     },
     "metadata": {
      "needs_background": "light"
     },
     "output_type": "display_data"
    }
   ],
   "source": [
    "sns.histplot(df_residualer['residualer'], bins = 8)\n",
    "plt.title('Fordeling av residualer')\n",
    "plt.ylabel('Antall')\n",
    "plt.xlabel('Residualer')\n",
    "plt.ylim(0,5)\n",
    "plt.savefig('hist.png')\n"
   ]
  },
  {
   "cell_type": "code",
   "execution_count": 7,
   "id": "52422ad5-c529-4223-86f6-7a856f180cf4",
   "metadata": {},
   "outputs": [
    {
     "data": {
      "image/png": "[encoded data removed]",
      "text/plain": [
       "<Figure size 432x288 with 1 Axes>"
      ]
     },
     "metadata": {
      "needs_background": "light"
     },
     "output_type": "display_data"
    }
   ],
   "source": [
    "\n",
    "sms.qqplot(df_residualer['residualer'],line = '45',fit = True )\n",
    "plt.title('q-q-plott for residualer')\n",
    "plt.xlabel('Teoretiske kvantiler')\n",
    "plt.ylabel('Kvantiler for residualene')\n",
    "plt.savefig('qq.png')\n",
    "plt.show()"
   ]
  },
  {
   "cell_type": "code",
   "execution_count": 8,
   "id": "f5cd2dc4-2c25-4e7c-81b8-62ee012b904a",
   "metadata": {},
   "outputs": [
    {
     "data": {
      "image/png": "[encoded data removed]",
      "text/plain": [
       "<Figure size 432x288 with 1 Axes>"
      ]
     },
     "metadata": {
      "needs_background": "light"
     },
     "output_type": "display_data"
    }
   ],
   "source": [
    "yhatt = np.append(df['modell'],df['modell'])\n",
    "\n",
    "plt.plot(yhatt,res,'ro')\n",
    "plt.hlines(0,500,1200)\n",
    "plt.title('Residualer mot regresjonsverdier')\n",
    "plt.xlabel('Modellert respons')\n",
    "plt.ylabel('Residualer')\n",
    "plt.savefig('Versus_fits')"
   ]
  },
  {
   "cell_type": "code",
   "execution_count": null,
   "id": "3acf30b9-59ea-4176-8e5a-7b7da16cc3a5",
   "metadata": {},
   "outputs": [],
   "source": []
  }
 ],
 "metadata": {
  "kernelspec": {
   "display_name": "Python 3 (ipykernel)",
   "language": "python",
   "name": "python3"
  },
  "language_info": {
   "codemirror_mode": {
    "name": "ipython",
    "version": 3
   },
   "file_extension": ".py",
   "mimetype": "text/x-python",
   "name": "python",
   "nbconvert_exporter": "python",
   "pygments_lexer": "ipython3",
   "version": "3.9.12"
  }
 },
 "nbformat": 4,
 "nbformat_minor": 5
}
