{
 "cells": [
  {
   "cell_type": "markdown",
   "id": "393826e7-3d5a-4893-9bd4-b2b79f8e4527",
   "metadata": {},
   "source": [
    " # Beregning av effekter\n",
    " \n",
    " Leser inn fil med fortegn for faktorer og måling av responsen"
   ]
  },
  {
   "cell_type": "code",
   "execution_count": null,
   "id": "b83c86f0-72d6-46ef-af7b-9c0e43ca606e",
   "metadata": {},
   "outputs": [],
   "source": [
    "# Henter pakker\n",
    "\n",
    "import numpy as np\n",
    "import pandas as pd\n",
    "from scipy import stats "
   ]
  },
  {
   "cell_type": "code",
   "execution_count": null,
   "id": "2ca108ba-5ae4-4cc4-8ca0-73623655cd97",
   "metadata": {},
   "outputs": [],
   "source": [
    "filnavn = ''                  # Skriv inn filnavnet\n",
    "df = pd.read_csv(filnavn,sep = ';')     # Leser inn i dataframe. Separator endres ved behov\n",
    "df                                      # Sjekker at dette gikk bra"
   ]
  },
  {
   "cell_type": "code",
   "execution_count": null,
   "id": "d71d1706-b4af-43e2-8146-00905324eb22",
   "metadata": {},
   "outputs": [],
   "source": [
    "k =          # Antall faktorer  \n",
    "n =          # Antall målinger totalt"
   ]
  },
  {
   "cell_type": "code",
   "execution_count": null,
   "id": "930f8e5b-98f9-41d7-9a19-ac8f46c27662",
   "metadata": {},
   "outputs": [],
   "source": [
    "# lager dataframe med bare responsene for å finne standardavviket\n",
    "\n",
    "vartabell = df.drop(columns=['A','B','C'])      # Fjerne alle fortegnskolonner. Legg til 'D' ved behov\n",
    "s2y = vartabell.var(axis = 1).mean()            # Varians på responsen\n",
    "s = np.sqrt(s2y*(4/n))                          # Standarsavvik for effektene"
   ]
  },
  {
   "cell_type": "code",
   "execution_count": null,
   "id": "88f910df-c4f4-48bf-8fb2-78aab9cd22ab",
   "metadata": {},
   "outputs": [],
   "source": [
    "# Finner de estimerte effektene for 3 faktorer og 2 sett målinger\n",
    "# Gjør nødvendige tilpasninger for andre typer\n",
    "\n",
    "A = (df[\"A\"]*(df[\"Y1\"]+df[\"Y2\"])).sum()/(n/2)\n",
    "B = (df[\"B\"]*(df[\"Y1\"]+df[\"Y2\"])).sum()/(n/2)\n",
    "C = (df[\"C\"]*(df[\"Y1\"]+df[\"Y2\"])).sum()/(n/2)\n",
    "AB = (df[\"A\"]*df[\"B\"]*(df[\"Y1\"]+df[\"Y2\"])).sum()/(n/2) \n",
    "AC = (df[\"A\"]*df[\"C\"]*(df[\"Y1\"]+df[\"Y2\"])).sum()/(n/2) \n",
    "BC = (df[\"B\"]*df[\"C\"]*(df[\"Y1\"]+df[\"Y2\"])).sum()/(n/2) \n",
    "ABC = (df[\"A\"]*df[\"B\"]*df[\"C\"]*(df[\"Y1\"]+df[\"Y2\"])).sum()/(n/2)"
   ]
  },
  {
   "cell_type": "code",
   "execution_count": null,
   "id": "c4daa362-56f8-42c8-95ca-b99eb322aac7",
   "metadata": {},
   "outputs": [],
   "source": [
    "#Legger effektene inn i dataframe effekter\n",
    "\n",
    "navneliste = ['A','B','C','AB','AC','BC','ABC'] \n",
    "effektliste = [A,B,C,AB,AC,BC,ABC]\n",
    "effekter = pd.DataFrame({'Effekt' : navneliste, 'Verdi' : effektliste})"
   ]
  },
  {
   "cell_type": "code",
   "execution_count": null,
   "id": "7eddb5af-dabc-4452-b982-9ef6d85d8164",
   "metadata": {},
   "outputs": [],
   "source": [
    "# Sammenlikner kritisk verdi med standardiserte effekter\n",
    "\n",
    "KritiskVerdi = abs(stats.t.ppf(0.025,2**k))                        # Finner kritisk verdi i t-fordeling\n",
    "effekter[\"Standardisert\"] = effekter[\"Verdi\"]/s                    # Standardisering\n",
    "effekter[\"Signifkans\"] = abs(effekter[\"Standardisert\"]) > KritiskVerdi  # Lager kolonne med true eller false for signifikans\n",
    "print('Kritisk verdi for standariserte verdier = ',KritiskVerdi)   # Skriver ut kritisk verdi for standariserte effekter\n",
    "display(effekter)   # Viser tabellen\n",
    "effekter.to_csv('Tabell.csv')                                      # Sett inn ønsket filnavn, beregnete effekter lagre som csv-fil"
   ]
  },
  {
   "cell_type": "code",
   "execution_count": null,
   "id": "fa067402-5650-41c6-b644-088dc70ebdd4",
   "metadata": {},
   "outputs": [],
   "source": []
  }
 ],
 "metadata": {
  "kernelspec": {
   "display_name": "Python 3 (ipykernel)",
   "language": "python",
   "name": "python3"
  },
  "language_info": {
   "codemirror_mode": {
    "name": "ipython",
    "version": 3
   },
   "file_extension": ".py",
   "mimetype": "text/x-python",
   "name": "python",
   "nbconvert_exporter": "python",
   "pygments_lexer": "ipython3",
   "version": "3.9.12"
  }
 },
 "nbformat": 4,
 "nbformat_minor": 5
}
