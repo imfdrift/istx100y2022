{
 "cells": [
  {
   "cell_type": "markdown",
   "metadata": {},
   "source": [
    "# Prosjektoppgave del 2 - Statistisk kvalitetskontroll\n",
    "\n",
    "Mål med oppgaven:\n",
    "* Deskriptiv statistikk\n",
    "* Tolkning av kapabilitetsindeks\n",
    "* Lage Shewart $\\bar{x}$ - og $s$-diagram.\n",
    "* Bruke og tolke Shewart $\\bar{x}$ - og $s$-diagram.\n",
    "\n",
    "Oppgaveteksten er gitt i denne jupyter-filen og svarene skal gis i STACK. \n",
    "\n",
    "**Bare et medlem av gruppen trenger å levere besvarelse i STACK.**\n",
    "\n",
    "**PS! PASS PÅ AT DU HAR SAMME DATASETT I DENNE JUPYTER-FILEN SOM DU HAR I STACK**\n",
    "\n",
    "**(hvis ikke får dere feil svar i STACK)**\n",
    "\n",
    "**DATASETT-NUMMERET SETTES I KODE-CELLEN UNDER**\n"
   ]
  },
  {
   "cell_type": "code",
   "execution_count": null,
   "metadata": {},
   "outputs": [],
   "source": [
    "import numpy as np\n",
    "import pandas as pd\n",
    "import statistics as statistics\n",
    "import matplotlib.pyplot as plt\n",
    "from scipy import stats\n",
    "from imageio import imread\n",
    "\n",
    "# NB! NB! NB! NB! NB! NB! NB! NB! NB! NB! NB! NB! NB! NB! NB! NB! NB! NB! NB! NB! NB! NB! NB! NB!\n",
    "########################## VELG DATASETT SOM MATCHER STACK HER ##################################\n",
    "datasettnr = 2\n",
    "########################## VELG DATASETT SOM MATCHER STACK HER ##################################\n",
    "# NB! NB! NB! NB! NB! NB! NB! NB! NB! NB! NB! NB! NB! NB! NB! NB! NB! NB! NB! NB! NB! NB! NB! NB!\n",
    "\n",
    "testdata = pd.read_csv(\"https://folk.ntnu.no/martinob/ISTx100y/1001_prosjekt/\" + str(datasettnr) + \"a.csv\",index_col = 0)\n",
    "stikkprovedata = pd.read_csv(\"https://folk.ntnu.no/martinob/ISTx100y/1001_prosjekt/\" + str(datasettnr) + \"b.csv\",index_col = 0)\n",
    "img = imread(\"https://folk.ntnu.no/martinob/ISTx100y/1001_prosjekt/\" + str(datasettnr) + \".png\")\n",
    "fig, ax = plt.subplots(figsize = (14,4))\n",
    "ax.imshow(img)\n",
    "ax.axis('off')\n",
    "plt.show();\n"
   ]
  },
  {
   "cell_type": "markdown",
   "metadata": {},
   "source": [
    "## Oppgave 1, oppstartfasen\n",
    "\n",
    "En bedrift har nylig startet med sløying og pakking av fisk og ønsker å kontrollere at vekten av hver fiskefilet de selger til kundene sine er korrekt. \n",
    "\n",
    "De bestemmer seg for å ta stikkprøver hver dag som inneholder $n=8$ kontrollmålinger av vekten av fiskefileer. Slike stikkprøver tar de i totalt $k=12$ dager. \n",
    "\n",
    "Vi skal nå hjelpe bedriften med å oppsummere informasjonen i datasettet deres (*beskrivende statistikk*)\n",
    "\n",
    "Datasettet med kontrollmålinger har du lastet inn i python-variabelen **testdata** (se kodecellen over). Det første vi gjør er å se på hva denne inneholder."
   ]
  },
  {
   "cell_type": "code",
   "execution_count": null,
   "metadata": {},
   "outputs": [],
   "source": [
    "display(testdata)"
   ]
  },
  {
   "cell_type": "code",
   "execution_count": null,
   "metadata": {},
   "outputs": [],
   "source": [
    "# Vi kan bruke pandas-funksjonen ´describe´ for å regne ut gjennomsnitt, empirisk standardavvik, kvantiler osv. for hver stikkprøve\n",
    "\n",
    "sammendrag=testdata.apply(pd.DataFrame.describe,axis=1)\n",
    "display(sammendrag)  "
   ]
  },
  {
   "cell_type": "markdown",
   "metadata": {},
   "source": [
    "Vi kan også visualisere serien med målinger og lage et histogram:"
   ]
  },
  {
   "cell_type": "code",
   "execution_count": null,
   "metadata": {},
   "outputs": [],
   "source": [
    "fig, ax = plt.subplots(ncols = 2, figsize = (15,7))\n",
    "ax[0].plot(testdata.to_numpy().flatten())\n",
    "ax[1].hist(testdata.to_numpy().flatten())\n",
    "plt.show()"
   ]
  },
  {
   "cell_type": "markdown",
   "metadata": {},
   "source": [
    "I tidsserien ser vi ingen tegn til endring av forventningsverdi eller varians over tid, og histogrammet indikerer at målingene er tilnærmet normalfordelt."
   ]
  },
  {
   "cell_type": "markdown",
   "metadata": {},
   "source": [
    "### 1a)\n",
    "Regn ut gjennomsnitt $\\overline{x}$ og empirisk standardavvik $s$ for hele datasettet. Disse tallene, $\\overline{x}$ og $s$, vil være våre beste forslag til hva gjennomsnitt og standardavvik er i det lange løp (om prosessen ikke endrer seg). Oppgi svaret i STACK. "
   ]
  },
  {
   "cell_type": "code",
   "execution_count": null,
   "metadata": {},
   "outputs": [],
   "source": [
    "# TIPS 1: Du kan konvertere verdiene i tabellen til en vektor og gjøre utregninger på denne:\n",
    "testdata_som_vektor = testdata.to_numpy().flatten()\n",
    "\n",
    "# TIPS 2: \n",
    "# Fra UKE 1 i fellesmodulen kan du finne kode for beskrivende statistikk (gjennomsnitt, standardavvik) med statistics-pakken\n",
    "# Du kan også benytte numpy-funksjoner for dette"
   ]
  },
  {
   "cell_type": "code",
   "execution_count": null,
   "metadata": {},
   "outputs": [],
   "source": [
    "# svar 1a\n"
   ]
  },
  {
   "cell_type": "markdown",
   "metadata": {},
   "source": [
    "### 1b)\n",
    "\n",
    "Videre er vi interessert i finne gjennomsnittet $\\bar{x}_i$ og standardavviket $s_i$ for hver enkelt stikkprøve, altså for $i = 1,2,\\dots,12$. \n",
    "\n",
    "Dette bruker vi til å regne ut $\\bar{\\bar{x}}$, gjennomsnittet av gjennomsnittene i hver stikkprøve $\\bar{x}_i, \\, i = 1, \\ldots, 12$. Oppgi svaret i STACK.\n",
    "\n",
    "Vi skal også regne ut $\\bar{s^2}$, gjennomsnittet av variansene i hver stikkprøve ($s_i^2, \\, i = 1, \\ldots, 12$), og deretter finne $\\bar{s}$. Oppgi svaret i STACK."
   ]
  },
  {
   "cell_type": "code",
   "execution_count": null,
   "metadata": {},
   "outputs": [],
   "source": [
    "# svar 1b\n"
   ]
  },
  {
   "cell_type": "markdown",
   "metadata": {},
   "source": [
    "### 1c)\n",
    "Bedriften er i kontakt med en mulig storkunde som ønsker å handle fiskefileetet for 19kr per stk., men de stiller krav til at vekten av disse må tilfredstille toleransegrensene $T_L = 120$ og $T_U = 130$. \n",
    "\n",
    "Vi bestemmer oss for å finne ut om produktet tilfredstiller storkundens krav ved å beregne kapabiliteten og kapabilitetsindeksen til produktet. Oppgi svarene i STACK.\n"
   ]
  },
  {
   "cell_type": "code",
   "execution_count": null,
   "metadata": {},
   "outputs": [],
   "source": [
    "# svar 1c\n"
   ]
  },
  {
   "cell_type": "markdown",
   "metadata": {},
   "source": [
    "### 1d)\n",
    "På pakgrunn av kapabiliteten og kapabilitetsindeksen, hva vil vi anbefale bedriften om å gjøre i forhold til storkunden? Oppgi svaret i STACK."
   ]
  },
  {
   "cell_type": "code",
   "execution_count": null,
   "metadata": {},
   "outputs": [],
   "source": [
    "# svar 1d\n"
   ]
  },
  {
   "cell_type": "markdown",
   "metadata": {},
   "source": [
    "## Oppgave 2, gjennomføring av kvalitetskontroll med Shewart $\\bar{x}$ - diagram\n",
    "\n",
    "Bedriften er nå ferdig med oppstartsfasen av produktet (oppgave 1) og produksjonen av fiskefileer er satt i gang for fullt.\n",
    "For å holde noenlunde oversikt på kvaliteten av produksjonlinjenen gjennomfører de daglige stikkprøver av vekten til fiskefileter. \n"
   ]
  },
  {
   "cell_type": "markdown",
   "metadata": {
    "tags": []
   },
   "source": [
    "### 2a)\n",
    "\n",
    "Bedriften ønsker at vi setter opp en automatisert kontroll av produksjonslinjen ved bruk av Shewarts $\\bar{x}$-diagram.\n",
    "\n",
    "Først må vi regne ut øvre og nedre kontrollgrenser (OKG og NKG) og øvre og nedre varselgrenser (OVG og NVG) basert på data fra da produksjonlinjen fungerte (oppgave 1). Oppgi svarene i STACK.\n"
   ]
  },
  {
   "cell_type": "code",
   "execution_count": null,
   "metadata": {},
   "outputs": [],
   "source": [
    "# svar 2a\n"
   ]
  },
  {
   "cell_type": "markdown",
   "metadata": {},
   "source": [
    "### 2b) \n",
    "\n",
    "Anta i denne deloppgaven at den faktiske gjennomsnittsvekten av filetene har avtatt til 124 gram, men at variasjonen i vekt er den samme. Regn ut forventet antall dager (stikkprøver) bedriften trenger før første registrerte kvalitetsavvik inntreffer ved bruk av Shewart $\\bar{x}$-diagram. Oppgi svaret i STACK. "
   ]
  },
  {
   "cell_type": "code",
   "execution_count": null,
   "metadata": {},
   "outputs": [],
   "source": [
    "# svar 2b\n"
   ]
  },
  {
   "cell_type": "markdown",
   "metadata": {},
   "source": [
    "## 2c)\n",
    "\n",
    "**stikkprovedata** er en *pandas dataramme* med en stikkprøveserie over 40 dager. Én stikkprøve tilsvarer 8 observasjoner.\n",
    "\n",
    "I en reel situasjon ville testserien stoppes og overhaling eller justering av produksjonsprosessen gjennomføres om Shewart-diagrammet tilsier dette.\n",
    "\n",
    "Vi tenker at bedriften tar en stikkprøve hver dag og vi får disse observasjonene og sjekker de i Shewart $\\bar{x}$-diagrammet.\n",
    "\n",
    "Hvis vi kjører cellen under kan vi se hva **stikkprovedata** inneholder"
   ]
  },
  {
   "cell_type": "code",
   "execution_count": null,
   "metadata": {},
   "outputs": [],
   "source": [
    "display(stikkprovedata)"
   ]
  },
  {
   "cell_type": "markdown",
   "metadata": {},
   "source": [
    "### 2c)\n",
    "\n",
    "Lag et $\\bar{x}$-diagram med kontrollgrensene fra **2a** og de 40 nye stikkprøve-gjennomsnittene.\n",
    "\n",
    "Ved hvilken stikkprøve skulle prosessen vært stoppet i følge $\\bar{x}$-diagrammet? Oppgi svaret i STACK."
   ]
  },
  {
   "cell_type": "code",
   "execution_count": null,
   "metadata": {},
   "outputs": [],
   "source": [
    "# svar 2c\n"
   ]
  },
  {
   "cell_type": "markdown",
   "metadata": {},
   "source": [
    "### 2d)\n",
    "\n",
    "Vi ønsker å gi bedriften et bedre beslutningsgrunnlag ved å også se på endringer i standardavviket i stikkprøvene. \n",
    "\n",
    "Dette gjør vi ved å sette på et spredningsdiagram ($s$-diagram).\n",
    "\n",
    "Regn ut øvre og nedre kontrollgrense i $s$-diagrammet basert på data fra da produksjonlinjen fungerte. Oppgi svarene i STACK.\n",
    "\n"
   ]
  },
  {
   "cell_type": "code",
   "execution_count": null,
   "metadata": {},
   "outputs": [],
   "source": [
    "# svare 2d\n"
   ]
  },
  {
   "cell_type": "markdown",
   "metadata": {},
   "source": [
    "### 2e)\n",
    "Lag et enkelt spredingsdiagram ($s$-diagram) med kontrollgrensene og alle standardavvikene for de 40 stikkprøvene. \n",
    "\n",
    "Bruk dette til å finne hvilken dag prosessen egentlig burde vært stoppet i følge $s$-diagrammet. Oppgi svaret i STACK."
   ]
  },
  {
   "cell_type": "code",
   "execution_count": null,
   "metadata": {},
   "outputs": [],
   "source": [
    "# svar 2e\n"
   ]
  },
  {
   "cell_type": "markdown",
   "metadata": {},
   "source": [
    "### 2f)\n",
    "\n",
    "Basert på Shewarts $\\bar{x}$-diagrammet og spredningsdiagrammet hvilken dag burde prosessen vært stoppet? Oppgi svaret i STACK.\n",
    "\n"
   ]
  },
  {
   "cell_type": "code",
   "execution_count": null,
   "metadata": {},
   "outputs": [],
   "source": [
    "# svar 2f\n"
   ]
  }
 ],
 "metadata": {
  "kernelspec": {
   "display_name": "Python 3 (ipykernel)",
   "language": "python",
   "name": "python3"
  },
  "language_info": {
   "codemirror_mode": {
    "name": "ipython",
    "version": 3
   },
   "file_extension": ".py",
   "mimetype": "text/x-python",
   "name": "python",
   "nbconvert_exporter": "python",
   "pygments_lexer": "ipython3",
   "version": "3.9.12"
  }
 },
 "nbformat": 4,
 "nbformat_minor": 4
}
