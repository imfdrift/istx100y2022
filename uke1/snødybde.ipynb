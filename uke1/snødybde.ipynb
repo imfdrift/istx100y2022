{
 "cells": [
  {
   "cell_type": "markdown",
   "metadata": {},
   "source": [
    "# Snødybde"
   ]
  },
  {
   "cell_type": "markdown",
   "metadata": {},
   "source": [
    "Datasettet `snodybde.xls` er lastet ned fra Norsk Klimaservicesenter https://seklima.met.no/ og inneholder observasjoner av snødybde målt på Biri i Gjøvik kommune vinteren 2019/2020. Vi har lagret filen som .xls fordi biblioteket xlrd (https://pypi.org/project/xlrd/) av sikkerhetshensyn ikke aksepterer .xlsx-filer. "
   ]
  },
  {
   "cell_type": "markdown",
   "metadata": {},
   "source": [
    "## Læringsmål: Kontinuerlige data\n",
    "\n",
    "### Delmål\n",
    "\n",
    "1. Lese inn .xls (excel) fil og gjøre seg kjent med et enkelt datasett\n",
    "2. Regne ut oppsummerende tall\n",
    "3. Plotte histogram og boksplott\n",
    "\n",
    "*Hva er relevant for tellende vurdering? Erfaringen med å håndtere datasett i Python får du nytte av i den tellende prosjektoppgaven, og i resten av utdanningen din. Du skal ikke skrive kode selv på eksamen, men du må kunne lese, tolke og forklare utskrift og plott fra ulike statistikk-beregninger i Python.*"
   ]
  },
  {
   "cell_type": "markdown",
   "metadata": {},
   "source": [
    "## Steg 1: Laste inn nødvendige python-moduler\n",
    "\n",
    "Notebook-tips: Kjør koden som henter inn modulene ved å trykke på feltet under og deretter knappen \"Run\" øverst på kommandolinja, eller bruk tastatursnarveien cmd + enter."
   ]
  },
  {
   "cell_type": "code",
   "execution_count": 1,
   "metadata": {},
   "outputs": [],
   "source": [
    "import pandas as pd # lese data fra excel-fil og bruke DataFrames\n",
    "import seaborn as sns # plotting\n",
    "sns.set(style = 'whitegrid', font_scale = 1.5) # utseende av plott\n",
    "import matplotlib.pyplot as plt # og mer plotting\n",
    "import numpy as np # matematikk\n",
    "import statistics as statistics  # statistikk-funksjoner"
   ]
  },
  {
   "cell_type": "markdown",
   "metadata": {},
   "source": [
    "## Steg 2: Lese inn data"
   ]
  },
  {
   "cell_type": "code",
   "execution_count": 7,
   "metadata": {},
   "outputs": [
    {
     "data": {
      "text/plain": [
       "(181, 4)"
      ]
     },
     "execution_count": 7,
     "metadata": {},
     "output_type": "execute_result"
    }
   ],
   "source": [
    "snodybde = pd.read_excel('https://www.math.ntnu.no/emner/IST100x/python_felles/snodybde.xls') # leser inn excel-fila\n",
    "snodybde.shape # dimensjonen på datasettet"
   ]
  },
  {
   "cell_type": "code",
   "execution_count": 3,
   "metadata": {},
   "outputs": [
    {
     "data": {
      "text/html": [
       "<div>\n",
       "<style scoped>\n",
       "    .dataframe tbody tr th:only-of-type {\n",
       "        vertical-align: middle;\n",
       "    }\n",
       "\n",
       "    .dataframe tbody tr th {\n",
       "        vertical-align: top;\n",
       "    }\n",
       "\n",
       "    .dataframe thead th {\n",
       "        text-align: right;\n",
       "    }\n",
       "</style>\n",
       "<table border=\"1\" class=\"dataframe\">\n",
       "  <thead>\n",
       "    <tr style=\"text-align: right;\">\n",
       "      <th></th>\n",
       "      <th>Navn</th>\n",
       "      <th>Stasjon</th>\n",
       "      <th>Tid(norsk normaltid)</th>\n",
       "      <th>Snødybde</th>\n",
       "    </tr>\n",
       "  </thead>\n",
       "  <tbody>\n",
       "    <tr>\n",
       "      <th>0</th>\n",
       "      <td>Biri</td>\n",
       "      <td>SN11900</td>\n",
       "      <td>02.11.2019</td>\n",
       "      <td>0</td>\n",
       "    </tr>\n",
       "    <tr>\n",
       "      <th>1</th>\n",
       "      <td>Biri</td>\n",
       "      <td>SN11900</td>\n",
       "      <td>03.11.2019</td>\n",
       "      <td>0</td>\n",
       "    </tr>\n",
       "    <tr>\n",
       "      <th>2</th>\n",
       "      <td>Biri</td>\n",
       "      <td>SN11900</td>\n",
       "      <td>04.11.2019</td>\n",
       "      <td>0</td>\n",
       "    </tr>\n",
       "    <tr>\n",
       "      <th>3</th>\n",
       "      <td>Biri</td>\n",
       "      <td>SN11900</td>\n",
       "      <td>05.11.2019</td>\n",
       "      <td>0</td>\n",
       "    </tr>\n",
       "    <tr>\n",
       "      <th>4</th>\n",
       "      <td>Biri</td>\n",
       "      <td>SN11900</td>\n",
       "      <td>06.11.2019</td>\n",
       "      <td>0</td>\n",
       "    </tr>\n",
       "    <tr>\n",
       "      <th>...</th>\n",
       "      <td>...</td>\n",
       "      <td>...</td>\n",
       "      <td>...</td>\n",
       "      <td>...</td>\n",
       "    </tr>\n",
       "    <tr>\n",
       "      <th>176</th>\n",
       "      <td>Biri</td>\n",
       "      <td>SN11900</td>\n",
       "      <td>26.04.2020</td>\n",
       "      <td>0</td>\n",
       "    </tr>\n",
       "    <tr>\n",
       "      <th>177</th>\n",
       "      <td>Biri</td>\n",
       "      <td>SN11900</td>\n",
       "      <td>27.04.2020</td>\n",
       "      <td>0</td>\n",
       "    </tr>\n",
       "    <tr>\n",
       "      <th>178</th>\n",
       "      <td>Biri</td>\n",
       "      <td>SN11900</td>\n",
       "      <td>28.04.2020</td>\n",
       "      <td>0</td>\n",
       "    </tr>\n",
       "    <tr>\n",
       "      <th>179</th>\n",
       "      <td>Biri</td>\n",
       "      <td>SN11900</td>\n",
       "      <td>29.04.2020</td>\n",
       "      <td>0</td>\n",
       "    </tr>\n",
       "    <tr>\n",
       "      <th>180</th>\n",
       "      <td>Biri</td>\n",
       "      <td>SN11900</td>\n",
       "      <td>30.04.2020</td>\n",
       "      <td>0</td>\n",
       "    </tr>\n",
       "  </tbody>\n",
       "</table>\n",
       "<p>181 rows × 4 columns</p>\n",
       "</div>"
      ],
      "text/plain": [
       "     Navn  Stasjon Tid(norsk normaltid)  Snødybde\n",
       "0    Biri  SN11900           02.11.2019         0\n",
       "1    Biri  SN11900           03.11.2019         0\n",
       "2    Biri  SN11900           04.11.2019         0\n",
       "3    Biri  SN11900           05.11.2019         0\n",
       "4    Biri  SN11900           06.11.2019         0\n",
       "..    ...      ...                  ...       ...\n",
       "176  Biri  SN11900           26.04.2020         0\n",
       "177  Biri  SN11900           27.04.2020         0\n",
       "178  Biri  SN11900           28.04.2020         0\n",
       "179  Biri  SN11900           29.04.2020         0\n",
       "180  Biri  SN11900           30.04.2020         0\n",
       "\n",
       "[181 rows x 4 columns]"
      ]
     },
     "execution_count": 3,
     "metadata": {},
     "output_type": "execute_result"
    }
   ],
   "source": [
    "snodybde # ser på de første og siste observasjonene"
   ]
  },
  {
   "cell_type": "markdown",
   "metadata": {},
   "source": [
    "## Steg 3: Regne ut oppsummerende tall\n",
    "\n",
    "Python-tips: Hvordan kjenner vi til alle disse funksjonene? Det er rimelig å anta at de vanligste statistikkfunksjonene er ferdig kodet i en eller annen python-modul. Et raskt google-søk på \"mean median and standard deviation in python\" gir oss med en gang informasjon om modulen \"statistics\", og funksjonene i denne modulen kan man lese om her: https://docs.python.org/3/library/statistics.html"
   ]
  },
  {
   "cell_type": "code",
   "execution_count": 4,
   "metadata": {},
   "outputs": [
    {
     "data": {
      "text/plain": [
       "31.34806629834254"
      ]
     },
     "execution_count": 4,
     "metadata": {},
     "output_type": "execute_result"
    }
   ],
   "source": [
    "# Gjennomsnitt\n",
    "statistics.mean(snodybde['Snødybde'])"
   ]
  },
  {
   "cell_type": "code",
   "execution_count": 6,
   "metadata": {},
   "outputs": [
    {
     "data": {
      "text/plain": [
       "16.42949106928088"
      ]
     },
     "execution_count": 6,
     "metadata": {},
     "output_type": "execute_result"
    }
   ],
   "source": [
    "# Standardavvik\n",
    "statistics.stdev(snodybde['Snødybde'])"
   ]
  },
  {
   "cell_type": "code",
   "execution_count": 7,
   "metadata": {},
   "outputs": [
    {
     "data": {
      "text/plain": [
       "34.0"
      ]
     },
     "execution_count": 7,
     "metadata": {},
     "output_type": "execute_result"
    }
   ],
   "source": [
    "# Median\n",
    "statistics.median(snodybde['Snødybde'])  # alternativ: np.quantile(snodybde['Snødybde'],0.5)"
   ]
  },
  {
   "cell_type": "code",
   "execution_count": 8,
   "metadata": {},
   "outputs": [
    {
     "data": {
      "text/plain": [
       "25.0"
      ]
     },
     "execution_count": 8,
     "metadata": {},
     "output_type": "execute_result"
    }
   ],
   "source": [
    "# Kvartilbredde\n",
    "np.quantile(snodybde['Snødybde'], 0.75) - np.quantile(snodybde['Snødybde'], 0.25)"
   ]
  },
  {
   "cell_type": "code",
   "execution_count": 9,
   "metadata": {},
   "outputs": [
    {
     "data": {
      "text/plain": [
       "61.0"
      ]
     },
     "execution_count": 9,
     "metadata": {},
     "output_type": "execute_result"
    }
   ],
   "source": [
    "# Variasjonsbredde\n",
    "max(snodybde['Snødybde']) - min(snodybde['Snødybde'])"
   ]
  },
  {
   "cell_type": "markdown",
   "metadata": {},
   "source": [
    "## Steg 4: Tabell og histogram\n",
    "Siden variasjonsbredden er på 61 cm ser vi det som rimelig å samle dataene i intervaller på 10 cm (fra 0 til og med 70 cm)."
   ]
  },
  {
   "cell_type": "code",
   "execution_count": 10,
   "metadata": {},
   "outputs": [
    {
     "data": {
      "text/html": [
       "<div>\n",
       "<style scoped>\n",
       "    .dataframe tbody tr th:only-of-type {\n",
       "        vertical-align: middle;\n",
       "    }\n",
       "\n",
       "    .dataframe tbody tr th {\n",
       "        vertical-align: top;\n",
       "    }\n",
       "\n",
       "    .dataframe thead th {\n",
       "        text-align: right;\n",
       "    }\n",
       "</style>\n",
       "<table border=\"1\" class=\"dataframe\">\n",
       "  <thead>\n",
       "    <tr style=\"text-align: right;\">\n",
       "      <th></th>\n",
       "      <th>Intervaller</th>\n",
       "      <th>Antall dager</th>\n",
       "    </tr>\n",
       "  </thead>\n",
       "  <tbody>\n",
       "    <tr>\n",
       "      <th>0</th>\n",
       "      <td>[0-10 cm)</td>\n",
       "      <td>29</td>\n",
       "    </tr>\n",
       "    <tr>\n",
       "      <th>1</th>\n",
       "      <td>[10-20 cm)</td>\n",
       "      <td>12</td>\n",
       "    </tr>\n",
       "    <tr>\n",
       "      <th>2</th>\n",
       "      <td>[20-30 cm)</td>\n",
       "      <td>25</td>\n",
       "    </tr>\n",
       "    <tr>\n",
       "      <th>3</th>\n",
       "      <td>[30-40 cm)</td>\n",
       "      <td>51</td>\n",
       "    </tr>\n",
       "    <tr>\n",
       "      <th>4</th>\n",
       "      <td>[40-50 cm)</td>\n",
       "      <td>51</td>\n",
       "    </tr>\n",
       "    <tr>\n",
       "      <th>5</th>\n",
       "      <td>[50-60 cm)</td>\n",
       "      <td>12</td>\n",
       "    </tr>\n",
       "    <tr>\n",
       "      <th>6</th>\n",
       "      <td>[60-70 cm)</td>\n",
       "      <td>1</td>\n",
       "    </tr>\n",
       "  </tbody>\n",
       "</table>\n",
       "</div>"
      ],
      "text/plain": [
       "  Intervaller  Antall dager\n",
       "0   [0-10 cm)            29\n",
       "1  [10-20 cm)            12\n",
       "2  [20-30 cm)            25\n",
       "3  [30-40 cm)            51\n",
       "4  [40-50 cm)            51\n",
       "5  [50-60 cm)            12\n",
       "6  [60-70 cm)             1"
      ]
     },
     "execution_count": 10,
     "metadata": {},
     "output_type": "execute_result"
    }
   ],
   "source": [
    "# Henter ut antall i hvert intervall\n",
    "antall, intervaller = np.histogram(snodybde['Snødybde'],bins = range(0,80,10))\n",
    "\n",
    "# Legger dataene i tabell\n",
    "tabell = {'Intervaller' : ['[0-10 cm)','[10-20 cm)','[20-30 cm)','[30-40 cm)',\n",
    "                         '[40-50 cm)','[50-60 cm)','[60-70 cm)'],\n",
    "          'Antall dager' : antall}\n",
    "\n",
    "# Lager en pandas DataFrame\n",
    "tabelldf = pd.DataFrame(tabell, columns = ['Intervaller','Antall dager'])\n",
    "tabelldf"
   ]
  },
  {
   "cell_type": "code",
   "execution_count": 11,
   "metadata": {},
   "outputs": [
    {
     "data": {
      "text/html": [
       "<div>\n",
       "<style scoped>\n",
       "    .dataframe tbody tr th:only-of-type {\n",
       "        vertical-align: middle;\n",
       "    }\n",
       "\n",
       "    .dataframe tbody tr th {\n",
       "        vertical-align: top;\n",
       "    }\n",
       "\n",
       "    .dataframe thead th {\n",
       "        text-align: right;\n",
       "    }\n",
       "</style>\n",
       "<table border=\"1\" class=\"dataframe\">\n",
       "  <thead>\n",
       "    <tr style=\"text-align: right;\">\n",
       "      <th></th>\n",
       "      <th>Intervaller</th>\n",
       "      <th>Antall dager</th>\n",
       "      <th>Andel dager</th>\n",
       "    </tr>\n",
       "  </thead>\n",
       "  <tbody>\n",
       "    <tr>\n",
       "      <th>0</th>\n",
       "      <td>[0-10 cm)</td>\n",
       "      <td>29</td>\n",
       "      <td>0.160</td>\n",
       "    </tr>\n",
       "    <tr>\n",
       "      <th>1</th>\n",
       "      <td>[10-20 cm)</td>\n",
       "      <td>12</td>\n",
       "      <td>0.066</td>\n",
       "    </tr>\n",
       "    <tr>\n",
       "      <th>2</th>\n",
       "      <td>[20-30 cm)</td>\n",
       "      <td>25</td>\n",
       "      <td>0.138</td>\n",
       "    </tr>\n",
       "    <tr>\n",
       "      <th>3</th>\n",
       "      <td>[30-40 cm)</td>\n",
       "      <td>51</td>\n",
       "      <td>0.282</td>\n",
       "    </tr>\n",
       "    <tr>\n",
       "      <th>4</th>\n",
       "      <td>[40-50 cm)</td>\n",
       "      <td>51</td>\n",
       "      <td>0.282</td>\n",
       "    </tr>\n",
       "    <tr>\n",
       "      <th>5</th>\n",
       "      <td>[50-60 cm)</td>\n",
       "      <td>12</td>\n",
       "      <td>0.066</td>\n",
       "    </tr>\n",
       "    <tr>\n",
       "      <th>6</th>\n",
       "      <td>[60-70 cm)</td>\n",
       "      <td>1</td>\n",
       "      <td>0.006</td>\n",
       "    </tr>\n",
       "  </tbody>\n",
       "</table>\n",
       "</div>"
      ],
      "text/plain": [
       "  Intervaller  Antall dager  Andel dager\n",
       "0   [0-10 cm)            29        0.160\n",
       "1  [10-20 cm)            12        0.066\n",
       "2  [20-30 cm)            25        0.138\n",
       "3  [30-40 cm)            51        0.282\n",
       "4  [40-50 cm)            51        0.282\n",
       "5  [50-60 cm)            12        0.066\n",
       "6  [60-70 cm)             1        0.006"
      ]
     },
     "execution_count": 11,
     "metadata": {},
     "output_type": "execute_result"
    }
   ],
   "source": [
    "# Regner ut andeler\n",
    "\n",
    "tabelldf['Andel dager'] = round(tabelldf['Antall dager']/sum(tabelldf['Antall dager']),3)\n",
    "tabelldf"
   ]
  },
  {
   "cell_type": "code",
   "execution_count": 13,
   "metadata": {},
   "outputs": [
    {
     "data": {
      "image/png": "[encoded data removed]",
      "text/plain": [
       "<Figure size 432x288 with 1 Axes>"
      ]
     },
     "metadata": {},
     "output_type": "display_data"
    }
   ],
   "source": [
    "# Plotter et histogram av observasjonene (merk y-aksen! høyden på stolpene er justert slik at arealet av alle stolpene er 1)\n",
    "sns.distplot(snodybde['Snødybde'], bins = range(0,80,10), \n",
    "             kde = False, hist_kws=dict(edgecolor=\"k\", linewidth=2),\n",
    "             norm_hist=True)\n",
    "\n"
   ]
  },
  {
   "cell_type": "markdown",
   "metadata": {},
   "source": [
    "## Steg 5: Boksplott"
   ]
  },
  {
   "cell_type": "code",
   "execution_count": 2,
   "metadata": {},
   "outputs": [
    {
     "ename": "NameError",
     "evalue": "name 'snodybde' is not defined",
     "output_type": "error",
     "traceback": [
      "\u001b[0;31m---------------------------------------------------------------------------\u001b[0m",
      "\u001b[0;31mNameError\u001b[0m                                 Traceback (most recent call last)",
      "\u001b[0;32m/tmp/ipykernel_248/3559907960.py\u001b[0m in \u001b[0;36m<module>\u001b[0;34m\u001b[0m\n\u001b[1;32m      1\u001b[0m \u001b[0;31m# Plotter et boksplott av observasjonene\u001b[0m\u001b[0;34m\u001b[0m\u001b[0;34m\u001b[0m\u001b[0m\n\u001b[1;32m      2\u001b[0m \u001b[0;34m\u001b[0m\u001b[0m\n\u001b[0;32m----> 3\u001b[0;31m \u001b[0msns\u001b[0m\u001b[0;34m.\u001b[0m\u001b[0mboxplot\u001b[0m\u001b[0;34m(\u001b[0m\u001b[0my\u001b[0m\u001b[0;34m=\u001b[0m\u001b[0;34m'Snødybde'\u001b[0m\u001b[0;34m,\u001b[0m\u001b[0mdata\u001b[0m\u001b[0;34m=\u001b[0m\u001b[0msnodybde\u001b[0m\u001b[0;34m)\u001b[0m\u001b[0;34m\u001b[0m\u001b[0;34m\u001b[0m\u001b[0m\n\u001b[0m\u001b[1;32m      4\u001b[0m \u001b[0;34m\u001b[0m\u001b[0m\n",
      "\u001b[0;31mNameError\u001b[0m: name 'snodybde' is not defined"
     ]
    }
   ],
   "source": [
    "# Plotter et boksplott av observasjonene\n",
    "\n",
    "sns.boxplot(y='Snødybde',data=snodybde)\n",
    "\n"
   ]
  },
  {
   "cell_type": "code",
   "execution_count": 3,
   "metadata": {},
   "outputs": [],
   "source": [
    "snodybde1415 = pd.read_excel('https://www.math.ntnu.no/emner/IST100x/python_felles/snodybde_1415.xls') # leser inn excel-fila\n"
   ]
  },
  {
   "cell_type": "code",
   "execution_count": 4,
   "metadata": {},
   "outputs": [
    {
     "data": {
      "text/plain": [
       "29.5"
      ]
     },
     "execution_count": 4,
     "metadata": {},
     "output_type": "execute_result"
    }
   ],
   "source": [
    "# Median\n",
    "statistics.median(snodybde1415['Snødybde'])"
   ]
  },
  {
   "cell_type": "code",
   "execution_count": null,
   "metadata": {},
   "outputs": [],
   "source": []
  }
 ],
 "metadata": {
  "kernelspec": {
   "display_name": "Python 3 (ipykernel)",
   "language": "python",
   "name": "python3"
  },
  "language_info": {
   "codemirror_mode": {
    "name": "ipython",
    "version": 3
   },
   "file_extension": ".py",
   "mimetype": "text/x-python",
   "name": "python",
   "nbconvert_exporter": "python",
   "pygments_lexer": "ipython3",
   "version": "3.9.7"
  }
 },
 "nbformat": 4,
 "nbformat_minor": 4
}
